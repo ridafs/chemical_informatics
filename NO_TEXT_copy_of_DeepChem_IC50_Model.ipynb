{
  "cells": [
    {
      "cell_type": "markdown",
      "metadata": {
        "id": "view-in-github",
        "colab_type": "text"
      },
      "source": [
        "<a href=\"https://colab.research.google.com/github/ridafs/chemical_informatics/blob/main/NO_TEXT_copy_of_DeepChem_IC50_Model.ipynb\" target=\"_parent\"><img src=\"https://colab.research.google.com/assets/colab-badge.svg\" alt=\"Open In Colab\"/></a>"
      ]
    },
    {
      "cell_type": "code",
      "execution_count": null,
      "metadata": {
        "id": "CMWAv-Z46nCc",
        "pycharm": {
          "name": "#%%\n"
        }
      },
      "outputs": [],
      "source": [
        "!pip install --pre deepchem[tensorflow]"
      ]
    },
    {
      "cell_type": "code",
      "execution_count": null,
      "metadata": {
        "id": "PDiY03h35zF_"
      },
      "outputs": [],
      "source": [
        "import deepchem as dc\n",
        "dc.__version__"
      ]
    },
    {
      "cell_type": "code",
      "source": [
        "!git clone https://github.com/dsalinasduron-msmary/chemical_informatics.git"
      ],
      "metadata": {
        "id": "662jOmVDjb6j"
      },
      "execution_count": null,
      "outputs": []
    },
    {
      "cell_type": "code",
      "source": [
        "import os\n",
        "import pickle\n",
        "\n",
        "os.listdir()\n",
        "os.chdir('chemical_informatics')\n",
        "os.getcwd()"
      ],
      "metadata": {
        "id": "Dzyxv9_apqbk"
      },
      "execution_count": null,
      "outputs": []
    },
    {
      "cell_type": "code",
      "source": [
        "f = open('ENSG00000128191dataframe.pickle','rb')\n",
        "compound_dataset = pickle.load(f)\n",
        "f.close()\n",
        "display(compound_dataset)"
      ],
      "metadata": {
        "id": "0nP10z6fqkjo"
      },
      "execution_count": null,
      "outputs": []
    },
    {
      "cell_type": "code",
      "source": [
        "smiles = compound_dataset['smiles']\n",
        "IC50 = compound_dataset['standard value']\n",
        "featurizer = dc.feat.ConvMolFeaturizer()\n",
        "compound_dataset['featurized'] = featurizer.featurize(smiles)\n",
        "display(compound_dataset)"
      ],
      "metadata": {
        "id": "8TpbPILDrorH"
      },
      "execution_count": null,
      "outputs": []
    },
    {
      "cell_type": "code",
      "source": [
        "compound_dataset['number'] = list(range(0,len(compound_dataset)))\n",
        "display(compound_dataset)"
      ],
      "metadata": {
        "id": "b8YztYwNzDyH"
      },
      "execution_count": null,
      "outputs": []
    },
    {
      "cell_type": "code",
      "source": [
        "x = compound_dataset\n",
        "f = open('x.pickle','wb')\n",
        "pickle.dump(x,f)\n",
        "f.close()"
      ],
      "metadata": {
        "id": "XAxzn73HuJ6X"
      },
      "execution_count": 16,
      "outputs": []
    },
    {
      "cell_type": "code",
      "source": [
        "import pandas as pd\n",
        "training_dataset = compound_dataset.sample(frac = 0.7)"
      ],
      "metadata": {
        "id": "Ri3huzzQvic9"
      },
      "execution_count": 17,
      "outputs": []
    },
    {
      "cell_type": "code",
      "source": [
        "testing_dataset = (compound_dataset[~compound_dataset['number'].isin(training_dataset['number'])])\n",
        "display(testing_dataset)"
      ],
      "metadata": {
        "id": "AjTBXgG6wMCn"
      },
      "execution_count": null,
      "outputs": []
    },
    {
      "cell_type": "code",
      "source": [
        "numpy_training_dataset = dc.data.NumpyDataset(X=training_dataset['featurized'],y=training_dataset['standard value'])\n",
        "numpy_testing_dataset = dc.data.NumpyDataset(X=testing_dataset['featurized'],y=testing_dataset['standard value'])\n",
        "display(numpy_training_dataset)\n",
        "display(numpy_testing_dataset)"
      ],
      "metadata": {
        "id": "QJ4FANaB13j1"
      },
      "execution_count": null,
      "outputs": []
    },
    {
      "cell_type": "code",
      "source": [
        "model = dc.models.GraphConvModel(n_tasks=1, mode='regression', dropout=0.2)\n",
        "model.fit(numpy_training_dataset, nb_epoch=100)"
      ],
      "metadata": {
        "id": "GmDVcsWW3I6B"
      },
      "execution_count": null,
      "outputs": []
    },
    {
      "cell_type": "code",
      "execution_count": null,
      "metadata": {
        "id": "saTaOpXY5zGI"
      },
      "outputs": [],
      "source": [
        "#Deep Chem example\n",
        "#tasks, datasets, transformers = dc.molnet.load_delaney(featurizer='GraphConv')\n",
        "#train_dataset, valid_dataset, test_dataset = datasets'''"
      ]
    },
    {
      "cell_type": "code",
      "source": [
        "#print(train_dataset)\n",
        "#print(type(train_dataset))'''"
      ],
      "metadata": {
        "id": "oFtYgiOXlQi6"
      },
      "execution_count": null,
      "outputs": []
    },
    {
      "cell_type": "code",
      "execution_count": null,
      "metadata": {
        "id": "YEDcUsz35zGO"
      },
      "outputs": [],
      "source": [
        "#model = dc.models.GraphConvModel(n_tasks=1, mode='regression', dropout=0.2)"
      ]
    },
    {
      "cell_type": "code",
      "execution_count": null,
      "metadata": {
        "id": "e5K3rdGV5zGg"
      },
      "outputs": [],
      "source": [
        "#model.fit(train_dataset, nb_epoch=100)"
      ]
    },
    {
      "cell_type": "code",
      "execution_count": null,
      "metadata": {
        "id": "LJc90fs_5zGs"
      },
      "outputs": [],
      "source": [
        "#metric = dc.metrics.Metric(dc.metrics.pearson_r2_score)\n",
        "#print(\"Training set score:\", model.evaluate(train_dataset, [metric], transformers))\n",
        "#print(\"Test set score:\", model.evaluate(test_dataset, [metric], transformers))"
      ]
    },
    {
      "cell_type": "code",
      "execution_count": null,
      "metadata": {
        "id": "HSVqeYox5zGx"
      },
      "outputs": [],
      "source": [
        "#solubilities = model.predict_on_batch(test_dataset.X[:10])\n",
        "#for molecule, solubility, test_solubility in zip(test_dataset.ids, solubilities, test_dataset.y):\n",
        "#   print(solubility, test_solubility, molecule)'''"
      ]
    },
    {
      "cell_type": "markdown",
      "source": [
        "## Citing This Tutorial\n",
        "If you found this tutorial useful please consider citing it using the provided BibTeX."
      ],
      "metadata": {
        "id": "pOBd6-YdQSvF"
      }
    },
    {
      "cell_type": "code",
      "source": [
        "@manual{Intro1,\n",
        " title={The Basic Tools of the Deep Life Sciences},\n",
        " organization={DeepChem},\n",
        " author={Ramsundar, Bharath},\n",
        " howpublished = {\\url{https://github.com/deepchem/deepchem/blob/master/examples/tutorials/The_Basic_Tools_of_the_Deep_Life_Sciences.ipynb}},\n",
        " year={2021},\n",
        "}"
      ],
      "metadata": {
        "id": "KZUk_9yIYw0c"
      },
      "execution_count": null,
      "outputs": []
    }
  ],
  "metadata": {
    "colab": {
      "provenance": [],
      "include_colab_link": true
    },
    "kernelspec": {
      "display_name": "Python 3 (ipykernel)",
      "language": "python",
      "name": "python3"
    },
    "language_info": {
      "codemirror_mode": {
        "name": "ipython",
        "version": 3
      },
      "file_extension": ".py",
      "mimetype": "text/x-python",
      "name": "python",
      "nbconvert_exporter": "python",
      "pygments_lexer": "ipython3",
      "version": "3.7.10"
    }
  },
  "nbformat": 4,
  "nbformat_minor": 0
}